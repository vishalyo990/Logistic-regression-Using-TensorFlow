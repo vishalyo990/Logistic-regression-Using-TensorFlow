{
 "cells": [
  {
   "cell_type": "code",
   "execution_count": 3,
   "metadata": {},
   "outputs": [],
   "source": [
    "import pandas as pd\n",
    "import tensorflow as tf\n",
    "from tensorflow.examples.tutorials.mnist import input_data"
   ]
  },
  {
   "cell_type": "code",
   "execution_count": 24,
   "metadata": {},
   "outputs": [
    {
     "name": "stdout",
     "output_type": "stream",
     "text": [
      "Extracting /tmp/data\\train-images-idx3-ubyte.gz\n",
      "Extracting /tmp/data\\train-labels-idx1-ubyte.gz\n",
      "Extracting /tmp/data\\t10k-images-idx3-ubyte.gz\n",
      "Extracting /tmp/data\\t10k-labels-idx1-ubyte.gz\n"
     ]
    }
   ],
   "source": [
    "mnist = input_data.read_data_sets('/tmp/data', one_hot = True)"
   ]
  },
  {
   "cell_type": "code",
   "execution_count": 6,
   "metadata": {},
   "outputs": [],
   "source": [
    "learning_rate = 0.01\n",
    "training_epochs = 25\n",
    "batch_size = 100\n",
    "display_step = 1"
   ]
  },
  {
   "cell_type": "code",
   "execution_count": 7,
   "metadata": {},
   "outputs": [],
   "source": [
    "#tf graph input\n",
    "x = tf.placeholder('float', [None, 784])\n",
    "y = tf.placeholder('float', [None, 10])"
   ]
  },
  {
   "cell_type": "code",
   "execution_count": 8,
   "metadata": {},
   "outputs": [],
   "source": [
    "#Creating model\n",
    "#set model weights\n",
    "W = tf.Variable(tf.zeros([784,10]))\n",
    "b= tf.Variable(tf.zeros([10]))"
   ]
  },
  {
   "cell_type": "code",
   "execution_count": 9,
   "metadata": {},
   "outputs": [],
   "source": [
    "#Construct model\n",
    "activation = tf.nn.softmax(tf.matmul(x, W)+b)"
   ]
  },
  {
   "cell_type": "code",
   "execution_count": 10,
   "metadata": {},
   "outputs": [],
   "source": [
    "#minimize error using cross entropy\n",
    "cost = -tf.reduce_sum(y*tf.log(activation))\n",
    "optimizer = tf.train.GradientDescentOptimizer(learning_rate).minimize(cost)"
   ]
  },
  {
   "cell_type": "code",
   "execution_count": 12,
   "metadata": {},
   "outputs": [],
   "source": [
    "#initilize the variables\n",
    "init = tf.initialize_all_variables()"
   ]
  },
  {
   "cell_type": "code",
   "execution_count": 23,
   "metadata": {},
   "outputs": [
    {
     "name": "stdout",
     "output_type": "stream",
     "text": [
      "Epochs: 0001 cost =  16531.093395233\n",
      "Epochs: 0002 cost =  12079.794255733\n",
      "Epochs: 0003 cost =  11556.366275787\n",
      "Epochs: 0004 cost =  11325.193195343\n",
      "Epochs: 0005 cost =  11065.778547287\n",
      "Epochs: 0006 cost =  10942.301183224\n",
      "Epochs: 0007 cost =  10893.077073097\n",
      "Epochs: 0008 cost =  10759.007378101\n",
      "Epochs: 0009 cost =  10618.699955940\n",
      "Epochs: 0010 cost =  10545.307107925\n",
      "Epochs: 0011 cost =  10503.801504612\n",
      "Epochs: 0012 cost =  10409.382595062\n",
      "Epochs: 0013 cost =  10461.052882671\n",
      "Epochs: 0014 cost =  10347.558157921\n",
      "Epochs: 0015 cost =  10337.913079262\n",
      "Epochs: 0016 cost =  10340.514180660\n",
      "Epochs: 0017 cost =  10274.178955078\n",
      "Epochs: 0018 cost =  10207.631279945\n",
      "Epochs: 0019 cost =  10136.035342216\n",
      "Epochs: 0020 cost =  10215.223028660\n",
      "Epochs: 0021 cost =  10158.304822445\n",
      "Epochs: 0022 cost =  10134.270826340\n",
      "Epochs: 0023 cost =  10094.951220036\n",
      "Epochs: 0024 cost =  10036.170574665\n",
      "Epochs: 0025 cost =  10076.828663349\n",
      "Optimization Finished!!\n",
      "äccuracy:  0.9243\n"
     ]
    }
   ],
   "source": [
    "#launch the graph\n",
    "with tf.Session() as sess:\n",
    "    sess.run(init)\n",
    "    \n",
    "    #trainning cycle\n",
    "    for epoch in range(training_epochs):\n",
    "        avg_cost = 0\n",
    "        total_batch = int(mnist.train.num_examples/batch_size)\n",
    "        #Loop over all batches\n",
    "        for i in range(total_batch):\n",
    "            batch_xs, batch_ys = mnist.train.next_batch(batch_size)\n",
    "            #fit the trainning using batch data\n",
    "            sess.run(optimizer, feed_dict={x: batch_xs, y: batch_ys})\n",
    "            #compute the avg. loss\n",
    "            avg_cost += sess.run(cost, feed_dict={x: batch_xs, y: batch_ys})\n",
    "        #display losgs per each epoch step\n",
    "        if epoch % display_step == 0:\n",
    "            print('Epochs:', '%04d' % (epoch+1), \"cost = \", '{:.9f}'.format(avg_cost))\n",
    "            \n",
    "    print(\"Optimization Finished!!\")\n",
    "    \n",
    "    #Testing Model\n",
    "    correct_prediction = tf.equal(tf.argmax(activation, 1), tf.argmax(y,1))\n",
    "    #calculate accuracy \n",
    "    accuracy = tf.reduce_mean(tf.cast(correct_prediction, \"float\"))\n",
    "    print(\"äccuracy: \", accuracy.eval({x: mnist.test.images, y: mnist.test.labels}))\n",
    "            "
   ]
  },
  {
   "cell_type": "code",
   "execution_count": null,
   "metadata": {},
   "outputs": [],
   "source": []
  },
  {
   "cell_type": "code",
   "execution_count": 20,
   "metadata": {},
   "outputs": [],
   "source": []
  },
  {
   "cell_type": "code",
   "execution_count": null,
   "metadata": {},
   "outputs": [],
   "source": []
  },
  {
   "cell_type": "code",
   "execution_count": null,
   "metadata": {},
   "outputs": [],
   "source": []
  }
 ],
 "metadata": {
  "kernelspec": {
   "display_name": "Python 3",
   "language": "python",
   "name": "python3"
  },
  "language_info": {
   "codemirror_mode": {
    "name": "ipython",
    "version": 3
   },
   "file_extension": ".py",
   "mimetype": "text/x-python",
   "name": "python",
   "nbconvert_exporter": "python",
   "pygments_lexer": "ipython3",
   "version": "3.5.4"
  }
 },
 "nbformat": 4,
 "nbformat_minor": 2
}
